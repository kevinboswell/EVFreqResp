{
 "cells": [
  {
   "cell_type": "code",
   "execution_count": 1,
   "metadata": {},
   "outputs": [],
   "source": [
    "import pandas as pd\n",
    "import matplotlib.pyplot as plt\n",
    "import numpy as np\n",
    "\n",
    "#import FreqRespPy\n",
    "\n",
    "from FreqRespPy.data_search import get_target_file_list, open_target_file\n",
    "from scipy import signal\n",
    "#from FreqRespPy.target_calc import mean_freq_response"
   ]
  },
  {
   "cell_type": "code",
   "execution_count": 2,
   "metadata": {},
   "outputs": [],
   "source": [
    "def to_linear(x):\n",
    "     return 10**(x / 10.0)    "
   ]
  },
  {
   "cell_type": "code",
   "execution_count": 3,
   "metadata": {},
   "outputs": [],
   "source": [
    "def to_dB(x):\n",
    "    return 10 * np.log10(x)"
   ]
  },
  {
   "cell_type": "code",
   "execution_count": 4,
   "metadata": {},
   "outputs": [],
   "source": [
    "def mean_freq_response(target_df):\n",
    "    target_df = target_df.apply(pd.to_numeric)\n",
    "    target_df_lin = to_linear(target_df)\n",
    "    row_means_lin = target_df_lin.mean(axis=1)\n",
    "    row_means = to_dB(row_means_lin)\n",
    "#    print(row_means)\n",
    "    return row_means"
   ]
  },
  {
   "cell_type": "code",
   "execution_count": 5,
   "metadata": {},
   "outputs": [
    {
     "name": "stdout",
     "output_type": "stream",
     "text": [
      "['FT_region_EV9_EVD_Comp0_Region 1.csv', 'FT_region_EV9_EVD_Comp0_Region 2.csv', 'FT_region_EV9_EVD_Comp0_Region 45.csv', 'FT_region_EV9_EVD_Comp0_Region 46.csv', 'FT_region_EV9_EVD_Comp1_Region 1.csv', 'FT_region_EV9_EVD_Comp1_Region 2.csv', 'FT_region_EV9_EVD_Comp1_Region 45.csv', 'FT_region_EV9_EVD_Comp1_Region 46.csv', 'FT_region_RAW_EV9_Region 1.csv', 'FT_region_RAW_EV9_Region 2.csv', 'FT_region_RAW_EV9_Region 45.csv', 'FT_region_RAW_EV9_Region 46.csv']\n"
     ]
    }
   ],
   "source": [
    "data_directory = 'C:/Users/kevinb/Documents/GitHub/FreqResp/data/'\n",
    "data_files = get_target_file_list(data_directory)\n",
    "print(data_files)"
   ]
  },
  {
   "cell_type": "code",
   "execution_count": 6,
   "metadata": {},
   "outputs": [],
   "source": [
    "mean_response_output = []"
   ]
  },
  {
   "cell_type": "code",
   "execution_count": 20,
   "metadata": {},
   "outputs": [
    {
     "data": {
      "text/html": [
       "<div>\n",
       "<style scoped>\n",
       "    .dataframe tbody tr th:only-of-type {\n",
       "        vertical-align: middle;\n",
       "    }\n",
       "\n",
       "    .dataframe tbody tr th {\n",
       "        vertical-align: top;\n",
       "    }\n",
       "\n",
       "    .dataframe thead th {\n",
       "        text-align: right;\n",
       "    }\n",
       "</style>\n",
       "<table border=\"1\" class=\"dataframe\">\n",
       "  <thead>\n",
       "    <tr style=\"text-align: right;\">\n",
       "      <th></th>\n",
       "      <th>0</th>\n",
       "      <th>1</th>\n",
       "      <th>2</th>\n",
       "      <th>3</th>\n",
       "      <th>4</th>\n",
       "      <th>5</th>\n",
       "      <th>6</th>\n",
       "      <th>7</th>\n",
       "      <th>8</th>\n",
       "      <th>9</th>\n",
       "      <th>...</th>\n",
       "      <th>14</th>\n",
       "      <th>15</th>\n",
       "      <th>16</th>\n",
       "      <th>17</th>\n",
       "      <th>18</th>\n",
       "      <th>19</th>\n",
       "      <th>20</th>\n",
       "      <th>21</th>\n",
       "      <th>22</th>\n",
       "      <th>23</th>\n",
       "    </tr>\n",
       "    <tr>\n",
       "      <th>Target_index</th>\n",
       "      <th></th>\n",
       "      <th></th>\n",
       "      <th></th>\n",
       "      <th></th>\n",
       "      <th></th>\n",
       "      <th></th>\n",
       "      <th></th>\n",
       "      <th></th>\n",
       "      <th></th>\n",
       "      <th></th>\n",
       "      <th></th>\n",
       "      <th></th>\n",
       "      <th></th>\n",
       "      <th></th>\n",
       "      <th></th>\n",
       "      <th></th>\n",
       "      <th></th>\n",
       "      <th></th>\n",
       "      <th></th>\n",
       "      <th></th>\n",
       "      <th></th>\n",
       "    </tr>\n",
       "  </thead>\n",
       "  <tbody>\n",
       "    <tr>\n",
       "      <th>35.000</th>\n",
       "      <td>-52.451588</td>\n",
       "      <td>-63.465770</td>\n",
       "      <td>-59.997580</td>\n",
       "      <td>-69.675210</td>\n",
       "      <td>-52.451588</td>\n",
       "      <td>-63.465770</td>\n",
       "      <td>-59.997580</td>\n",
       "      <td>-69.675210</td>\n",
       "      <td>-52.451588</td>\n",
       "      <td>-63.465770</td>\n",
       "      <td>...</td>\n",
       "      <td>-59.997580</td>\n",
       "      <td>-69.675210</td>\n",
       "      <td>-52.451588</td>\n",
       "      <td>-63.465770</td>\n",
       "      <td>-59.997580</td>\n",
       "      <td>-69.675210</td>\n",
       "      <td>-52.451588</td>\n",
       "      <td>-63.465770</td>\n",
       "      <td>-69.675210</td>\n",
       "      <td>-45.788544</td>\n",
       "    </tr>\n",
       "    <tr>\n",
       "      <th>35.244</th>\n",
       "      <td>-52.722110</td>\n",
       "      <td>-61.588481</td>\n",
       "      <td>-60.949608</td>\n",
       "      <td>-71.633388</td>\n",
       "      <td>-52.722110</td>\n",
       "      <td>-61.588481</td>\n",
       "      <td>-60.949608</td>\n",
       "      <td>-71.633388</td>\n",
       "      <td>-52.722110</td>\n",
       "      <td>-61.588481</td>\n",
       "      <td>...</td>\n",
       "      <td>-60.949608</td>\n",
       "      <td>-71.633388</td>\n",
       "      <td>-52.722110</td>\n",
       "      <td>-61.588481</td>\n",
       "      <td>-60.949608</td>\n",
       "      <td>-71.633388</td>\n",
       "      <td>-52.722110</td>\n",
       "      <td>-61.588481</td>\n",
       "      <td>-71.633388</td>\n",
       "      <td>-44.099700</td>\n",
       "    </tr>\n",
       "    <tr>\n",
       "      <th>35.488</th>\n",
       "      <td>-51.737675</td>\n",
       "      <td>-59.694728</td>\n",
       "      <td>-61.053577</td>\n",
       "      <td>-69.312700</td>\n",
       "      <td>-51.737675</td>\n",
       "      <td>-59.694728</td>\n",
       "      <td>-61.053577</td>\n",
       "      <td>-69.312700</td>\n",
       "      <td>-51.737675</td>\n",
       "      <td>-59.694728</td>\n",
       "      <td>...</td>\n",
       "      <td>-61.053577</td>\n",
       "      <td>-69.312700</td>\n",
       "      <td>-51.737675</td>\n",
       "      <td>-59.694728</td>\n",
       "      <td>-61.053577</td>\n",
       "      <td>-69.312700</td>\n",
       "      <td>-51.737675</td>\n",
       "      <td>-59.694728</td>\n",
       "      <td>-69.312700</td>\n",
       "      <td>-41.937313</td>\n",
       "    </tr>\n",
       "    <tr>\n",
       "      <th>35.732</th>\n",
       "      <td>-50.287286</td>\n",
       "      <td>-58.420025</td>\n",
       "      <td>-60.472141</td>\n",
       "      <td>-65.754410</td>\n",
       "      <td>-50.287286</td>\n",
       "      <td>-58.420025</td>\n",
       "      <td>-60.472141</td>\n",
       "      <td>-65.754410</td>\n",
       "      <td>-50.287286</td>\n",
       "      <td>-58.420025</td>\n",
       "      <td>...</td>\n",
       "      <td>-60.472141</td>\n",
       "      <td>-65.754410</td>\n",
       "      <td>-50.287286</td>\n",
       "      <td>-58.420025</td>\n",
       "      <td>-60.472141</td>\n",
       "      <td>-65.754410</td>\n",
       "      <td>-50.287286</td>\n",
       "      <td>-58.420025</td>\n",
       "      <td>-65.754410</td>\n",
       "      <td>-40.210598</td>\n",
       "    </tr>\n",
       "    <tr>\n",
       "      <th>35.977</th>\n",
       "      <td>-49.534386</td>\n",
       "      <td>-58.584687</td>\n",
       "      <td>-59.888862</td>\n",
       "      <td>-63.066246</td>\n",
       "      <td>-49.534386</td>\n",
       "      <td>-58.584687</td>\n",
       "      <td>-59.888862</td>\n",
       "      <td>-63.066246</td>\n",
       "      <td>-49.534386</td>\n",
       "      <td>-58.584687</td>\n",
       "      <td>...</td>\n",
       "      <td>-59.888862</td>\n",
       "      <td>-63.066246</td>\n",
       "      <td>-49.534386</td>\n",
       "      <td>-58.584687</td>\n",
       "      <td>-59.888862</td>\n",
       "      <td>-63.066246</td>\n",
       "      <td>-49.534386</td>\n",
       "      <td>-58.584687</td>\n",
       "      <td>-63.066246</td>\n",
       "      <td>-39.847487</td>\n",
       "    </tr>\n",
       "  </tbody>\n",
       "</table>\n",
       "<p>5 rows × 24 columns</p>\n",
       "</div>"
      ],
      "text/plain": [
       "                     0          1          2          3          4   \\\n",
       "Target_index                                                          \n",
       "35.000       -52.451588 -63.465770 -59.997580 -69.675210 -52.451588   \n",
       "35.244       -52.722110 -61.588481 -60.949608 -71.633388 -52.722110   \n",
       "35.488       -51.737675 -59.694728 -61.053577 -69.312700 -51.737675   \n",
       "35.732       -50.287286 -58.420025 -60.472141 -65.754410 -50.287286   \n",
       "35.977       -49.534386 -58.584687 -59.888862 -63.066246 -49.534386   \n",
       "\n",
       "                     5          6          7          8          9   \\\n",
       "Target_index                                                          \n",
       "35.000       -63.465770 -59.997580 -69.675210 -52.451588 -63.465770   \n",
       "35.244       -61.588481 -60.949608 -71.633388 -52.722110 -61.588481   \n",
       "35.488       -59.694728 -61.053577 -69.312700 -51.737675 -59.694728   \n",
       "35.732       -58.420025 -60.472141 -65.754410 -50.287286 -58.420025   \n",
       "35.977       -58.584687 -59.888862 -63.066246 -49.534386 -58.584687   \n",
       "\n",
       "                ...             14         15         16         17  \\\n",
       "Target_index    ...                                                   \n",
       "35.000          ...     -59.997580 -69.675210 -52.451588 -63.465770   \n",
       "35.244          ...     -60.949608 -71.633388 -52.722110 -61.588481   \n",
       "35.488          ...     -61.053577 -69.312700 -51.737675 -59.694728   \n",
       "35.732          ...     -60.472141 -65.754410 -50.287286 -58.420025   \n",
       "35.977          ...     -59.888862 -63.066246 -49.534386 -58.584687   \n",
       "\n",
       "                     18         19         20         21         22         23  \n",
       "Target_index                                                                    \n",
       "35.000       -59.997580 -69.675210 -52.451588 -63.465770 -69.675210 -45.788544  \n",
       "35.244       -60.949608 -71.633388 -52.722110 -61.588481 -71.633388 -44.099700  \n",
       "35.488       -61.053577 -69.312700 -51.737675 -59.694728 -69.312700 -41.937313  \n",
       "35.732       -60.472141 -65.754410 -50.287286 -58.420025 -65.754410 -40.210598  \n",
       "35.977       -59.888862 -63.066246 -49.534386 -58.584687 -63.066246 -39.847487  \n",
       "\n",
       "[5 rows x 24 columns]"
      ]
     },
     "execution_count": 20,
     "metadata": {},
     "output_type": "execute_result"
    }
   ],
   "source": [
    " for file in data_files:\n",
    "\n",
    "        meta, df = open_target_file(data_directory, file)\n",
    "\n",
    "   #     print(df)\n",
    "   #     print(df.dtypes)\n",
    "\n",
    "        mean_response = mean_freq_response(df)\n",
    "        mean_response_output.append(mean_response)\n",
    "\n",
    " df_output = pd.concat(mean_response_output, axis=1)\n",
    " df_output.to_csv('output/test.csv')\n",
    " df_output.head()\n",
    " df.columns = data_files "
   ]
  },
  {
   "cell_type": "code",
   "execution_count": 15,
   "metadata": {},
   "outputs": [
    {
     "data": {
      "text/plain": [
       "12"
      ]
     },
     "execution_count": 15,
     "metadata": {},
     "output_type": "execute_result"
    }
   ],
   "source": [
    "data_files = get_target_file_list(data_directory)\n",
    "len(data_files)\n"
   ]
  },
  {
   "cell_type": "code",
   "execution_count": 19,
   "metadata": {},
   "outputs": [
    {
     "data": {
      "text/plain": [
       "9"
      ]
     },
     "execution_count": 19,
     "metadata": {},
     "output_type": "execute_result"
    }
   ],
   "source": [
    "len(df.columns.values)"
   ]
  },
  {
   "cell_type": "code",
   "execution_count": null,
   "metadata": {},
   "outputs": [],
   "source": []
  },
  {
   "cell_type": "code",
   "execution_count": null,
   "metadata": {},
   "outputs": [],
   "source": []
  },
  {
   "cell_type": "code",
   "execution_count": null,
   "metadata": {},
   "outputs": [],
   "source": []
  },
  {
   "cell_type": "code",
   "execution_count": 18,
   "metadata": {},
   "outputs": [],
   "source": [
    "target1= df_output.iloc[:,0]   # Fish1\n",
    "target2= df_output.iloc[:,1]   # Fish2\n",
    "target3= df_output.iloc[:,2]   # Fish3\n",
    "target4= df_output.iloc[:,3]   # Fish4\n",
    "freq=df.index\n"
   ]
  },
  {
   "cell_type": "code",
   "execution_count": 10,
   "metadata": {},
   "outputs": [
    {
     "data": {
      "text/plain": [
       "[<matplotlib.lines.Line2D at 0x22d85a9a630>]"
      ]
     },
     "execution_count": 10,
     "metadata": {},
     "output_type": "execute_result"
    },
    {
     "data": {
      "image/png": "[encoded data removed]",
      "text/plain": [
       "<Figure size 432x288 with 1 Axes>"
      ]
     },
     "metadata": {
      "needs_background": "light"
     },
     "output_type": "display_data"
    }
   ],
   "source": [
    "plt.scatter(freq,target1, zorder=1)\n",
    "plt.plot(freq,target1,zorder=2)\n",
    "\n",
    "plt.scatter(freq,target2, zorder=3)\n",
    "plt.plot(freq,target2,zorder=4)\n",
    "\n",
    "plt.scatter(freq,target3, zorder=5)\n",
    "plt.plot(freq,target3,zorder=6)\n",
    "\n",
    "plt.scatter(freq,target4, zorder=7)\n",
    "plt.plot(freq,target4,zorder=8)"
   ]
  },
  {
   "cell_type": "code",
   "execution_count": 11,
   "metadata": {},
   "outputs": [
    {
     "data": {
      "image/png": "[encoded data removed]",
      "text/plain": [
       "<Figure size 432x288 with 1 Axes>"
      ]
     },
     "metadata": {
      "needs_background": "light"
     },
     "output_type": "display_data"
    }
   ],
   "source": [
    "x = np.arange(10)\n",
    "\n",
    "for a in [1.0, 2.0, 3.0]:\n",
    "    plt.plot(x, a*x)\n",
    "\n",
    "plt.show()"
   ]
  },
  {
   "cell_type": "code",
   "execution_count": 12,
   "metadata": {},
   "outputs": [
    {
     "data": {
      "image/png": "[encoded data removed]",
      "text/plain": [
       "<Figure size 432x288 with 1 Axes>"
      ]
     },
     "metadata": {
      "needs_background": "light"
     },
     "output_type": "display_data"
    }
   ],
   "source": [
    "fs = 10e3\n",
    "N = 1e5\n",
    "amp = 20\n",
    "freq = 1234.0\n",
    "noise_power = 0.001 * fs / 2\n",
    "time = np.arange(N) / fs\n",
    "b, a = signal.butter(2, 0.15, 'high')\n",
    "x = np.random.normal(scale=np.sqrt(noise_power), size=time.shape)\n",
    "y = signal.lfilter(b, a, x)\n",
    "x += amp*np.sin(2*np.pi*freq*time)\n",
    "y += np.random.normal(scale=0.1*np.sqrt(noise_power), size=time.shape)\n",
    "\n",
    "\n",
    "f, Cxy = signal.coherence(x, y, fs, nperseg=1024)\n",
    "plt.semilogy(f, Cxy)\n",
    "plt.xlabel('frequency [Hz]')\n",
    "plt.ylabel('Coherence')\n",
    "plt.show()"
   ]
  }
 ],
 "metadata": {
  "kernelspec": {
   "display_name": "Python (FreqResp)",
   "language": "python",
   "name": "freqresp"
  },
  "language_info": {
   "codemirror_mode": {
    "name": "ipython",
    "version": 3
   },
   "file_extension": ".py",
   "mimetype": "text/x-python",
   "name": "python",
   "nbconvert_exporter": "python",
   "pygments_lexer": "ipython3",
   "version": "3.7.1"
  }
 },
 "nbformat": 4,
 "nbformat_minor": 2
}
