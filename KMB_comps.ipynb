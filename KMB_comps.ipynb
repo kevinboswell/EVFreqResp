{
 "cells": [
  {
   "cell_type": "code",
   "execution_count": 7,
   "metadata": {},
   "outputs": [],
   "source": [
    "import pandas as pd\n",
    "import matplotlib.pyplot as plt\n",
    "#import FreqRespPy\n",
    "\n",
    "from FreqRespPy.data_search import get_target_file_list, open_target_file\n",
    "#from FreqRespPy.target_calc import mean_freq_response"
   ]
  },
  {
   "cell_type": "code",
   "execution_count": 2,
   "metadata": {},
   "outputs": [],
   "source": [
    "def mean_freq_response(target_df):\n",
    "    target_df = target_df.apply(pd.to_numeric)\n",
    "    target_df_lin = 10**(target_df/10)\n",
    "    row_means = target_df_lin.mean(axis=1)\n",
    "    return row_means"
   ]
  },
  {
   "cell_type": "code",
   "execution_count": 3,
   "metadata": {},
   "outputs": [],
   "source": [
    "data_directory = 'C:/Users/kevinb/Documents/GitHub/FreqResp/data/'\n",
    "data_files = get_target_file_list(data_directory)\n",
    "#print(data_files)"
   ]
  },
  {
   "cell_type": "code",
   "execution_count": 4,
   "metadata": {},
   "outputs": [],
   "source": [
    "mean_response_output = []"
   ]
  },
  {
   "cell_type": "code",
   "execution_count": 5,
   "metadata": {},
   "outputs": [],
   "source": [
    " for file in data_files:\n",
    "\n",
    "        meta, df = open_target_file(data_directory, file)\n",
    "\n",
    "#        print(df)\n",
    "#        print(df.dtypes)\n",
    "\n",
    "        mean_response = mean_freq_response(df)\n",
    "        mean_response_output.append(mean_response)\n",
    "\n",
    " df_output = pd.concat(mean_response_output, axis=1)\n",
    " df_output.to_csv('output/test.csv')"
   ]
  },
  {
   "cell_type": "code",
   "execution_count": 25,
   "metadata": {},
   "outputs": [
    {
     "data": {
      "text/plain": [
       "<matplotlib.collections.PathCollection at 0x299e5e61e10>"
      ]
     },
     "execution_count": 25,
     "metadata": {},
     "output_type": "execute_result"
    },
    {
     "data": {
      "image/png": "[encoded data removed]",
      "text/plain": [
       "<Figure size 432x288 with 1 Axes>"
      ]
     },
     "metadata": {
      "needs_background": "light"
     },
     "output_type": "display_data"
    }
   ],
   "source": [
    "plt.scatter(mean_response[1], mean_response[2])"
   ]
  },
  {
   "cell_type": "code",
   "execution_count": 20,
   "metadata": {},
   "outputs": [],
   "source": [
    "#print(df)"
   ]
  }
 ],
 "metadata": {
  "kernelspec": {
   "display_name": "Python (FreqResp)",
   "language": "python",
   "name": "freqresp"
  },
  "language_info": {
   "codemirror_mode": {
    "name": "ipython",
    "version": 3
   },
   "file_extension": ".py",
   "mimetype": "text/x-python",
   "name": "python",
   "nbconvert_exporter": "python",
   "pygments_lexer": "ipython3",
   "version": "3.7.1"
  }
 },
 "nbformat": 4,
 "nbformat_minor": 2
}
