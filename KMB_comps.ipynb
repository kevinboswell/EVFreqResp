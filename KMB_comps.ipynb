{
 "cells": [
  {
   "cell_type": "code",
   "execution_count": 26,
   "metadata": {},
   "outputs": [],
   "source": [
    "import pandas as pd\n",
    "import matplotlib.pyplot as plt\n",
    "import numpy as np\n",
    "\n",
    "#import FreqRespPy\n",
    "\n",
    "from FreqRespPy.data_search import get_target_file_list, open_target_file\n",
    "from scipy import signal\n",
    "#from FreqRespPy.target_calc import mean_freq_response"
   ]
  },
  {
   "cell_type": "code",
   "execution_count": 27,
   "metadata": {},
   "outputs": [],
   "source": [
    "def to_linear(x):\n",
    "     return 10**(x / 10.0)    "
   ]
  },
  {
   "cell_type": "code",
   "execution_count": 28,
   "metadata": {},
   "outputs": [],
   "source": [
    "def to_dB(x):\n",
    "    return 10 * np.log10(x)"
   ]
  },
  {
   "cell_type": "code",
   "execution_count": 29,
   "metadata": {},
   "outputs": [],
   "source": [
    "def mean_freq_response(target_df):\n",
    "    target_df = target_df.apply(pd.to_numeric)\n",
    "    target_df_lin = to_linear(target_df)\n",
    "    row_means_lin = target_df_lin.mean(axis=1)\n",
    "    row_means = to_dB(row_means_lin)\n",
    "#    print(row_means)\n",
    "    return row_means"
   ]
  },
  {
   "cell_type": "code",
   "execution_count": 30,
   "metadata": {},
   "outputs": [
    {
     "name": "stdout",
     "output_type": "stream",
     "text": [
      "['FT_region_EV9_EVD_Comp0_Region 45.csv', 'FT_region_EV9_EVD_Comp0_Region 46.csv', 'FT_region_EV9_EVD_Comp0_Region 2.csv', 'FT_region_EV9_EVD_Comp0_Region 1.csv', 'FT_region_RAW_EV9_Region 46.csv', 'FT_region_EV9_EVD_Comp1_Region 2.csv', 'FT_region_RAW_EV9_Region 45.csv', 'FT_region_EV9_EVD_Comp1_Region 1.csv', 'FT_region_RAW_EV9_Region 2.csv', 'FT_region_RAW_EV9_Region 1.csv', 'FT_region_EV9_EVD_Comp1_Region 45.csv', 'FT_region_EV9_EVD_Comp1_Region 46.csv']\n"
     ]
    }
   ],
   "source": [
    "data_directory = '/Users/djacques/Documents/GitHub/FreqResp/data/'\n",
    "data_files = get_target_file_list(data_directory)\n",
    "print(data_files)"
   ]
  },
  {
   "cell_type": "code",
   "execution_count": null,
   "metadata": {},
   "outputs": [],
   "source": []
  },
  {
   "cell_type": "code",
   "execution_count": 31,
   "metadata": {},
   "outputs": [],
   "source": [
    "mean_response_output = []\n",
    "\n",
    "for file in data_files:\n",
    "    meta, df = open_target_file(data_directory, file)\n",
    "    #     print(df)\n",
    "    #     print(df.dtypes)\n",
    "    \n",
    "    mean_response = mean_freq_response(df)\n",
    "    mean_response_output.append(mean_response)"
   ]
  },
  {
   "cell_type": "code",
   "execution_count": null,
   "metadata": {},
   "outputs": [],
   "source": []
  },
  {
   "cell_type": "code",
   "execution_count": 32,
   "metadata": {},
   "outputs": [],
   "source": [
    "df_output = pd.concat(mean_response_output, axis=1)"
   ]
  },
  {
   "cell_type": "code",
   "execution_count": 33,
   "metadata": {},
   "outputs": [],
   "source": [
    "type(df_output)\n",
    "df_output.shape\n",
    "df_output.columns.values\n",
    "df_output.columns = [file.replace(' ', '_') for file in data_files]"
   ]
  },
  {
   "cell_type": "code",
   "execution_count": 35,
   "metadata": {},
   "outputs": [],
   "source": [
    "data_files = [file.replace(' ', '_') for file in data_files]\n",
    "data_files = [file[:-4] for file in data_files if file.endswith('.csv')]\n",
    "data_files = [file[10:] for file in data_files if file.startswith('FT_region_')]"
   ]
  },
  {
   "cell_type": "code",
   "execution_count": 36,
   "metadata": {},
   "outputs": [],
   "source": [
    "df_output.columns = data_files"
   ]
  },
  {
   "cell_type": "code",
   "execution_count": null,
   "metadata": {},
   "outputs": [],
   "source": [
    "target1= df_output.iloc[:,0]   # Fish1\n",
    "target2= df_output.iloc[:,1]   # Fish2\n",
    "target3= df_output.iloc[:,2]   # Fish3\n",
    "target4= df_output.iloc[:,3]   # Fish4\n",
    "freq=df.index\n"
   ]
  },
  {
   "cell_type": "code",
   "execution_count": null,
   "metadata": {},
   "outputs": [],
   "source": [
    "plt.scatter(freq,target1, zorder=1)\n",
    "plt.plot(freq,target1,zorder=2)\n",
    "\n",
    "plt.scatter(freq,target2, zorder=3)\n",
    "plt.plot(freq,target2,zorder=4)\n",
    "\n",
    "plt.scatter(freq,target3, zorder=5)\n",
    "plt.plot(freq,target3,zorder=6)\n",
    "\n",
    "plt.scatter(freq,target4, zorder=7)\n",
    "plt.plot(freq,target4,zorder=8)"
   ]
  },
  {
   "cell_type": "code",
   "execution_count": null,
   "metadata": {},
   "outputs": [],
   "source": [
    "x = np.arange(10)\n",
    "\n",
    "for a in [1.0, 2.0, 3.0]:\n",
    "    plt.plot(x, a*x)\n",
    "\n",
    "plt.show()"
   ]
  },
  {
   "cell_type": "code",
   "execution_count": null,
   "metadata": {},
   "outputs": [],
   "source": [
    "fs = 10e3\n",
    "N = 1e5\n",
    "amp = 20\n",
    "freq = 1234.0\n",
    "noise_power = 0.001 * fs / 2\n",
    "time = np.arange(N) / fs\n",
    "b, a = signal.butter(2, 0.15, 'high')\n",
    "x = np.random.normal(scale=np.sqrt(noise_power), size=time.shape)\n",
    "y = signal.lfilter(b, a, x)\n",
    "x += amp*np.sin(2*np.pi*freq*time)\n",
    "y += np.random.normal(scale=0.1*np.sqrt(noise_power), size=time.shape)\n",
    "\n",
    "\n",
    "f, Cxy = signal.coherence(x, y, fs, nperseg=1024)\n",
    "plt.semilogy(f, Cxy)\n",
    "plt.xlabel('frequency [Hz]')\n",
    "plt.ylabel('Coherence')\n",
    "plt.show()"
   ]
  }
 ],
 "metadata": {
  "kernelspec": {
   "display_name": "FreqResp",
   "language": "python",
   "name": "freqresp"
  },
  "language_info": {
   "codemirror_mode": {
    "name": "ipython",
    "version": 3
   },
   "file_extension": ".py",
   "mimetype": "text/x-python",
   "name": "python",
   "nbconvert_exporter": "python",
   "pygments_lexer": "ipython3",
   "version": "3.6.5"
  }
 },
 "nbformat": 4,
 "nbformat_minor": 2
}
